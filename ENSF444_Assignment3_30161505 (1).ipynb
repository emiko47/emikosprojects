{
 "cells": [
  {
   "cell_type": "markdown",
   "id": "CNDKREiQRJJX",
   "metadata": {
    "id": "CNDKREiQRJJX"
   },
   "source": [
    "<font size=\"+3\"><b>Assignment 3: Non-Linear Models and Validation Metrics</b></font>\n",
    "\n",
    "***\n",
    "* **Full Name** =\n",
    "* **UCID** =\n",
    "***"
   ]
  },
  {
   "cell_type": "markdown",
   "id": "ce31b39a",
   "metadata": {
    "id": "ce31b39a"
   },
   "source": [
    "<font color='Blue'>\n",
    "In this assignment, you will need to write code that uses non-linear models to perform classification and regression tasks. You will also be asked to describe the process by which you came up with the code. More details can be found below. Please cite any websites or AI tools that you used to help you with this assignment.\n",
    "</font>\n",
    "\n",
    "|                **Question**                | **Point** |\n",
    "|:------------------------------------------:|:---------:|\n",
    "|           **Part 1: Regression**           |  **14.5** |\n",
    "|          Step 0: Import Libraries          |           |\n",
    "|             Step 1: Data Input             |    0.5    |\n",
    "|           Step 2: Data Processing          |     0     |\n",
    "| Step 3: Implement   Machine Learning Model |    0.5    |\n",
    "|           Step 4: Validate Model           |    0.5    |\n",
    "|         Step 5: Visualize   Results        |     3     |\n",
    "|                  Questions                 |     6     |\n",
    "|             Process Description            |     4     |\n",
    "|         **Part 2: Classification**         |  **17.5** |\n",
    "|             Step 1: Data Input             |     2     |\n",
    "|           Step 2: Data Processing          |    1.5    |\n",
    "| Step 3: Implement   Machine Learning Model |           |\n",
    "|            Step 4: Validate Mode           |           |\n",
    "|         Step 5: Visualize   Results        |     4     |\n",
    "|                  Questions                 |     6     |\n",
    "|             Process Description            |     4     |\n",
    "|   **Part 3: Observations/Interpretation**  |   **3**   |\n",
    "|           **Part 4: Reflection**           |   **2**   |\n",
    "|                  **Total**                 |   **37**  |\n",
    "|                                            |           |\n",
    "|                  **Bonus**                 |           |\n",
    "|         **Part 5: Bonus Question**         |   **3**   |"
   ]
  },
  {
   "cell_type": "markdown",
   "id": "cf275ca7",
   "metadata": {
    "id": "cf275ca7"
   },
   "source": [
    "### Import Libraries"
   ]
  },
  {
   "cell_type": "code",
   "execution_count": 5,
   "id": "2b67a661",
   "metadata": {
    "id": "2b67a661"
   },
   "outputs": [],
   "source": [
    "import numpy as np\n",
    "import pandas as pd\n",
    "import matplotlib.pyplot as plt\n",
    "import seaborn as sns"
   ]
  },
  {
   "cell_type": "markdown",
   "id": "5ee2d2c3",
   "metadata": {
    "id": "5ee2d2c3"
   },
   "source": [
    "# **Part 1: Regression (14.5 marks)**\n",
    "\n",
    "For this section, we will be continuing with the concrete example from yellowbrick. You will need to compare these results to the results from the previous assignment. Please use the results from the solution if you were unable to complete Assignment 2"
   ]
  },
  {
   "cell_type": "markdown",
   "id": "8219f163",
   "metadata": {
    "id": "8219f163"
   },
   "source": [
    "## **Step 1:** Data Input (0.5 marks)\n",
    "\n",
    "The data used for this task can be downloaded using the yellowbrick library:\n",
    "https://www.scikit-yb.org/en/latest/api/datasets/concrete.html\n",
    "\n",
    "Use the yellowbrick function `load_concrete()` to load the concrete dataset into the feature matrix `X` and target vector `y`."
   ]
  },
  {
   "cell_type": "code",
   "execution_count": 2,
   "id": "2af8bd32",
   "metadata": {
    "id": "2af8bd32"
   },
   "outputs": [
    {
     "name": "stdout",
     "output_type": "stream",
     "text": [
      "X size: 8240\n",
      "y size: 1030\n",
      "X type: <class 'pandas.core.frame.DataFrame'>\n",
      "y type: <class 'pandas.core.series.Series'>\n"
     ]
    }
   ],
   "source": [
    "# TO DO: Import concrete dataset from yellowbrick library\n",
    "from yellowbrick.datasets import load_concrete\n",
    "from ucimlrepo import fetch_ucirepo \n",
    "\n",
    "  \n",
    "# data (as pandas dataframes) \n",
    "X, y = load_concrete()\n",
    "\n",
    "print(\"X size:\", X.size)\n",
    "print(\"y size:\", y.size)\n",
    "print(\"X type:\", type(X))\n",
    "print(\"y type:\", type(y))\n"
   ]
  },
  {
   "cell_type": "markdown",
   "id": "42fea4cc",
   "metadata": {
    "id": "42fea4cc"
   },
   "source": [
    "## **Step 2:** Data Processing (0 marks)\n",
    "\n",
    "Data processing was completed in the previous assignment. No need to repeat here.\n",
    "\n",
    "<font color='red'>\n",
    "This is just for your information and no action is required from you for this step.\n",
    "</font>"
   ]
  },
  {
   "cell_type": "markdown",
   "id": "2a245d00",
   "metadata": {
    "id": "2a245d00"
   },
   "source": [
    "## **Step 3:** Implement Machine Learning Model (0.5 marks)\n",
    "\n",
    "1. Import the Decision Tree, Random Forest and Gradient Boosting Machines regression models from sklearn\n",
    "2. Instantiate the three models with `max_depth = 5`. Are there any other parameters that you will need to set?\n",
    "3. Implement each machine learning model with `X` and `y`"
   ]
  },
  {
   "cell_type": "markdown",
   "id": "3f994e31",
   "metadata": {
    "id": "3f994e31"
   },
   "source": [
    "## **Step 4:** Validate Model (0.5 marks)\n",
    "\n",
    "Calculate the average training and validation accuracy using mean squared error with cross-validation. To do this, you will need to set `scoring='neg_mean_squared_error'` in your `cross_validate` function and negate the results (multiply by -1)"
   ]
  },
  {
   "cell_type": "markdown",
   "id": "5fc3f7a8",
   "metadata": {
    "id": "5fc3f7a8"
   },
   "source": [
    "## **Step 5:** Visualize Results (3 marks)\n",
    "\n",
    "1. Create a pandas DataFrame `results` with columns: Training accuracy and Validation accuracy, and index: DT, RF and GB\n",
    "2. Add the accuracy results to the `results` DataFrame\n",
    "3. Print `results`"
   ]
  },
  {
   "cell_type": "code",
   "execution_count": 7,
   "id": "fdc93a78",
   "metadata": {
    "id": "fdc93a78"
   },
   "outputs": [
    {
     "name": "stdout",
     "output_type": "stream",
     "text": [
      "Decision Tree:\n",
      "Average Training MSE: 47.91856102734339\n",
      "Average Validation MSE: 163.08777547307804\n",
      "\n",
      "Random Forest:\n",
      "Average Training MSE: 32.05543206759723\n",
      "Average Validation MSE: 156.40497179627897\n",
      "\n",
      "Gradient Boosting:\n",
      "Average Training MSE: 3.739270010942101\n",
      "Average Validation MSE: 99.3602591572192\n",
      "\n",
      "    Training MSE  Validation MSE\n",
      "DT     47.918561      163.087775\n",
      "RF     32.055432      156.404972\n",
      "GB      3.739270       99.360259\n"
     ]
    }
   ],
   "source": [
    "# TO DO: ADD YOUR CODE HERE FOR STEPS 3-5\n",
    "# Note: for any random state parameters, you can use random_state = 0\n",
    "# HINT: USING A LOOP TO STORE THE DATA IN YOUR RESULTS DATAFRAME WILL BE MORE EFFICIENT\n",
    "from sklearn.tree import DecisionTreeRegressor\n",
    "from sklearn.ensemble import RandomForestRegressor, GradientBoostingRegressor\n",
    "from sklearn.model_selection import cross_validate\n",
    "from sklearn.metrics import mean_squared_error\n",
    "\n",
    "\n",
    "dtregressor = DecisionTreeRegressor(max_depth=5, random_state = 0)#from sci-kit learn\n",
    "#for the random forest and gradient boosting regressors, we need to specify the number of trees to use(n_estimators)\n",
    "rfregressor = RandomForestRegressor(n_estimators = 100, random_state = 0, max_depth = 5)\n",
    "gbregressor = GradientBoostingRegressor(max_depth = 5, random_state = 0, n_estimators = 100, learning_rate = 0.1)\n",
    "\n",
    "dtregressor.fit(X, y)\n",
    "rfregressor.fit(X, y)\n",
    "gbregressor.fit(X,y)\n",
    "\n",
    "\n",
    "# Cross-validate Decision Tree Regressor\n",
    "dt_scores = cross_validate(dtregressor, X, y, scoring='neg_mean_squared_error', cv=5, return_train_score=True)\n",
    "dt_train_mse = -1 * dt_scores['train_score']\n",
    "dt_val_mse = -1 * dt_scores['test_score']\n",
    "\n",
    "# Cross-validate Random Forest Regressor\n",
    "rf_scores = cross_validate(rfregressor, X, y, scoring='neg_mean_squared_error', cv=5, return_train_score=True)\n",
    "rf_train_mse = -1 * rf_scores['train_score']\n",
    "rf_val_mse = -1 * rf_scores['test_score']\n",
    "\n",
    "# Cross-validate Gradient Boosting Regressor\n",
    "gb_scores = cross_validate(gbregressor, X, y, scoring='neg_mean_squared_error', cv=5, return_train_score=True)\n",
    "gb_train_mse = -1 * gb_scores['train_score']\n",
    "gb_val_mse = -1 * gb_scores['test_score']\n",
    "\n",
    "# Calculate average training and validation MSE\n",
    "avg_dt_train_mse = np.mean(dt_train_mse)\n",
    "avg_dt_val_mse = np.mean(dt_val_mse)\n",
    "\n",
    "avg_rf_train_mse = np.mean(rf_train_mse)\n",
    "avg_rf_val_mse = np.mean(rf_val_mse)\n",
    "\n",
    "avg_gb_train_mse = np.mean(gb_train_mse)\n",
    "avg_gb_val_mse = np.mean(gb_val_mse)\n",
    "\n",
    "print(\"Decision Tree:\")\n",
    "print(f\"Average Training MSE: {avg_dt_train_mse}\")\n",
    "print(f\"Average Validation MSE: {avg_dt_val_mse}\\n\")\n",
    "\n",
    "print(\"Random Forest:\")\n",
    "print(f\"Average Training MSE: {avg_rf_train_mse}\")\n",
    "print(f\"Average Validation MSE: {avg_rf_val_mse}\\n\")\n",
    "\n",
    "print(\"Gradient Boosting:\")\n",
    "print(f\"Average Training MSE: {avg_gb_train_mse}\")\n",
    "print(f\"Average Validation MSE: {avg_gb_val_mse}\\n\")\n",
    "\n",
    "#chat gpt used here. In the process description remember to include the prompts and explain thought process\n",
    "#here, I think a higher MSE indicates better performance in this case, since we used \"scoring = neg_mean_squared_error\"\n",
    "\n",
    "results_data = {\n",
    "    'Training MSE': [47.91856102734339, 32.05543206759723, 3.739270010942101],\n",
    "    'Validation MSE': [163.08777547307804, 156.40497179627897, 99.3602591572192]\n",
    "}\n",
    "\n",
    "index = ['DT', 'RF', 'GB']\n",
    "results_df = pd.DataFrame(results_data, index=index)\n",
    "print(results_df)"
   ]
  },
  {
   "cell_type": "markdown",
   "id": "31715a9d",
   "metadata": {
    "id": "31715a9d"
   },
   "source": [
    "Repeat the step above to print the R2 score instead of the mean-squared error. For this case, you can use `scoring='r2'`.\n",
    "\n",
    "<font color='red'>\n",
    "Due to the similarity of this to the main part of step 5, this part is 0.5 and the main part of step 5 is 2.5 of the total 3 points for this step.\n",
    "</font>"
   ]
  },
  {
   "cell_type": "code",
   "execution_count": 10,
   "id": "83539f47",
   "metadata": {
    "id": "83539f47"
   },
   "outputs": [
    {
     "name": "stdout",
     "output_type": "stream",
     "text": [
      "Decision Tree:\n",
      "Average Training MSE: 0.8228872809524459\n",
      "Average Validation MSE: 0.1762104452178903\n",
      "\n",
      "Random Forest:\n",
      "Average Training MSE: 0.881221342371458\n",
      "Average Validation MSE: 0.1737480262274312\n",
      "\n",
      "Gradient Boosting:\n",
      "Average Training MSE: 0.9864362663137645\n",
      "Average Validation MSE: 0.4737008698990578\n",
      "\n",
      "    Training MSE  Validation MSE\n",
      "DT      0.822887        0.176210\n",
      "RF      0.881221        0.173748\n",
      "GB      0.986436        0.473701\n"
     ]
    }
   ],
   "source": [
    "# TO DO: ADD YOUR CODE HERE\n",
    "# This would be similar to the main step, the main difference is the scoring.\n",
    "dt_scores = cross_validate(dtregressor, X, y, scoring='r2', cv=5, return_train_score=True)\n",
    "dt_train_mse = dt_scores['train_score']\n",
    "dt_val_mse = dt_scores['test_score']\n",
    "\n",
    "# Cross-validate Random Forest Regressor\n",
    "rf_scores = cross_validate(rfregressor, X, y, scoring='r2', cv=5, return_train_score=True)\n",
    "rf_train_mse = rf_scores['train_score']\n",
    "rf_val_mse = rf_scores['test_score']\n",
    "\n",
    "# Cross-validate Gradient Boosting Regressor\n",
    "gb_scores = cross_validate(gbregressor, X, y, scoring='r2', cv=5, return_train_score=True)\n",
    "gb_train_mse = gb_scores['train_score']\n",
    "gb_val_mse = gb_scores['test_score']\n",
    "\n",
    "# Calculate average training and validation MSE\n",
    "avg_dt_train_mse = np.mean(dt_train_mse)\n",
    "avg_dt_val_mse = np.mean(dt_val_mse)\n",
    "\n",
    "avg_rf_train_mse = np.mean(rf_train_mse)\n",
    "avg_rf_val_mse = np.mean(rf_val_mse)\n",
    "\n",
    "avg_gb_train_mse = np.mean(gb_train_mse)\n",
    "avg_gb_val_mse = np.mean(gb_val_mse)\n",
    "\n",
    "print(\"Decision Tree:\")\n",
    "print(f\"Average Training MSE: {avg_dt_train_mse}\")\n",
    "print(f\"Average Validation MSE: {avg_dt_val_mse}\\n\")\n",
    "\n",
    "print(\"Random Forest:\")\n",
    "print(f\"Average Training MSE: {avg_rf_train_mse}\")\n",
    "print(f\"Average Validation MSE: {avg_rf_val_mse}\\n\")\n",
    "\n",
    "print(\"Gradient Boosting:\")\n",
    "print(f\"Average Training MSE: {avg_gb_train_mse}\")\n",
    "print(f\"Average Validation MSE: {avg_gb_val_mse}\\n\")\n",
    "\n",
    "#chat gpt used here. In the process description remember to include the prompts and explain thought process\n",
    "#here, I think a higher MSE indicates better performance in this case, since we used \"scoring = neg_mean_squared_error\"\n",
    "\n",
    "results_data = {\n",
    "    'Training MSE': [0.8228872809524459, 0.881221342371458, 0.9864362663137645],\n",
    "    'Validation MSE': [0.1762104452178903, 0.1737480262274312, 0.4737008698990578]\n",
    "}\n",
    "\n",
    "index = ['DT', 'RF', 'GB']\n",
    "results_df = pd.DataFrame(results_data, index=index)\n",
    "print(results_df)"
   ]
  },
  {
   "cell_type": "markdown",
   "id": "a5257a98",
   "metadata": {
    "id": "a5257a98"
   },
   "source": [
    "## Questions (6 marks)\n",
    "1. How do these results compare to the results using a linear model in the previous assignment? Use values.\n",
    "1. Out of the models you tested, which model would you select for this dataset and why?\n",
    "1. If you wanted to increase the accuracy of the tree-based models, what would you do? Provide two suggestions."
   ]
  },
  {
   "cell_type": "markdown",
   "id": "2PRnpiFjVDzv",
   "metadata": {
    "id": "2PRnpiFjVDzv"
   },
   "source": [
    "# <font color='Green'><b>\n",
    "    \n",
    "1. In the previous assignment, we got a mean square error above 100 for both training and validation accuracy(114.6 and 106.8 to be exact; meaning that our predicted values were far off from the actual labels. For the models above, since we specified the scoring parameter as \"neg_mean_squared_error\", a high MSE would indicate better performance in this case. While the models above had a better performance with the training set, they performed rather poorly with the validation set, with low validation MSEs of 0.18, 0.17 and 0.47(Decision Tree, Random Forest, and Gradient Boosting respectively)\n",
    "    \n",
    "2. For this dataset, I would select the Gradient Boosting model simply because it has the highest training and validation accuracy.\n",
    "    \n",
    "3. Firstly, I would limit the value of the max_depth to prevent overfitting. I would probably also increase the learning rate so that the model tries to correct its errors more strongly.\n",
    "    \n",
    "    </b></font>\n",
    "\n"
   ]
  },
  {
   "cell_type": "markdown",
   "id": "37b238f4",
   "metadata": {
    "id": "37b238f4"
   },
   "source": [
    "## Process Description (4 marks)\n",
    "Please describe the process you used to create your code. Cite any websites or generative AI tools used. You can use the following questions as guidance:\n",
    "1. Where did you source your code?\n",
    "1. In what order did you complete the steps?\n",
    "1. If you used generative AI, what prompts did you use? Did you need to modify the code at all? Why or why not?\n",
    "1. Did you have any challenges? If yes, what were they? If not, what helped you to be successful?"
   ]
  },
  {
   "cell_type": "markdown",
   "id": "93097bfe",
   "metadata": {
    "id": "93097bfe"
   },
   "source": [
    "<font color='Green'><b>\n",
    "    \n",
    "1. I sourced all imports from scikit-learn.org. The code for computing the cross-validation, train_mse's, val_mse's and the average mse's were all sourced from chatgpt.\n",
    "    \n",
    "2. I completed the steps in the order they were given.\n",
    "    \n",
    "3. Prompt 1: How can I calculate the average training and validation accuracy using mean squared error with cross-validation? Explain how I can do this while setting the scoring parameter as 'neg_mean_squared_error' and negating the results.\n",
    "    \n",
    "I couldn't find anything useful for this step in the lecture notes so I put prompt 1 into chatgpt to get an idea of where to get started. Then I modified the code for all three models.\n",
    "    \n",
    "Prompt 2: Explain what happens when the scoring parameter is set to 'neg_mean_squared_error'.\n",
    "    \n",
    "I didn't know how 'neg_mean_squared_error' affected the MSE so I passed prompt 2 to chatgpt and figured out that a higher MSE in this case would indicate better performance.\n",
    "    \n",
    "4. I guess my only challenge was not necessarily knowing where to get started but I was able to break through with the help of chatgpt.\n",
    "    \n",
    "    \n",
    "</b></font>"
   ]
  },
  {
   "cell_type": "markdown",
   "id": "f7c6de86",
   "metadata": {
    "id": "f7c6de86"
   },
   "source": [
    "# **Part 2: Classification (17.5 marks)**\n",
    "\n",
    "You have been asked to develop code that can help the user classify different wine samples. Following the machine learning workflow described in class, write the relevant code in each of the steps below:"
   ]
  },
  {
   "cell_type": "markdown",
   "id": "5f9d33a8",
   "metadata": {
    "id": "5f9d33a8"
   },
   "source": [
    "## **Step 1:** Data Input (2 marks)\n",
    "\n",
    "The data used for this task can be downloaded from UCI: https://archive.ics.uci.edu/dataset/109/wine\n",
    "\n",
    "Use the pandas library to load the dataset. You must define the column headers if they are not included in the dataset\n",
    "\n",
    "You will need to split the dataset into feature matrix `X` and target vector `y`. Which column represents the target vector?\n",
    "\n",
    "Print the size and type of `X` and `y`"
   ]
  },
  {
   "cell_type": "code",
   "execution_count": 14,
   "id": "33583c67",
   "metadata": {
    "id": "33583c67"
   },
   "outputs": [
    {
     "name": "stdout",
     "output_type": "stream",
     "text": [
      "X size: 2314\n",
      "y size: 178\n",
      "X type: <class 'pandas.core.frame.DataFrame'>\n",
      "y type: <class 'pandas.core.frame.DataFrame'>\n"
     ]
    }
   ],
   "source": [
    "# TO DO: Import wine dataset\n",
    "from ucimlrepo import fetch_ucirepo \n",
    "  \n",
    "# fetch dataset \n",
    "wine = fetch_ucirepo(id=109) \n",
    "  \n",
    "# data (as pandas dataframes) \n",
    "X = wine.data.features \n",
    "y = wine.data.targets \n",
    "\n",
    "print(\"X size:\", X.size)\n",
    "print(\"y size:\", y.size)\n",
    "print(\"X type:\", type(X))\n",
    "print(\"y type:\", type(y))\n",
    "print(\"The first and only column of y represents the target vector\")\n"
   ]
  },
  {
   "cell_type": "markdown",
   "id": "156db208",
   "metadata": {
    "id": "156db208"
   },
   "source": [
    "## **Step 2:** Data Processing (1.5 marks)"
   ]
  },
  {
   "cell_type": "markdown",
   "id": "a28af110",
   "metadata": {
    "id": "a28af110"
   },
   "source": [
    "Print the first five rows of the dataset to inspect:"
   ]
  },
  {
   "cell_type": "code",
   "execution_count": 16,
   "id": "ea266921",
   "metadata": {
    "id": "ea266921"
   },
   "outputs": [
    {
     "data": {
      "text/html": [
       "<div>\n",
       "<style scoped>\n",
       "    .dataframe tbody tr th:only-of-type {\n",
       "        vertical-align: middle;\n",
       "    }\n",
       "\n",
       "    .dataframe tbody tr th {\n",
       "        vertical-align: top;\n",
       "    }\n",
       "\n",
       "    .dataframe thead th {\n",
       "        text-align: right;\n",
       "    }\n",
       "</style>\n",
       "<table border=\"1\" class=\"dataframe\">\n",
       "  <thead>\n",
       "    <tr style=\"text-align: right;\">\n",
       "      <th></th>\n",
       "      <th>Alcohol</th>\n",
       "      <th>Malicacid</th>\n",
       "      <th>Ash</th>\n",
       "      <th>Alcalinity_of_ash</th>\n",
       "      <th>Magnesium</th>\n",
       "      <th>Total_phenols</th>\n",
       "      <th>Flavanoids</th>\n",
       "      <th>Nonflavanoid_phenols</th>\n",
       "      <th>Proanthocyanins</th>\n",
       "      <th>Color_intensity</th>\n",
       "      <th>Hue</th>\n",
       "      <th>0D280_0D315_of_diluted_wines</th>\n",
       "      <th>Proline</th>\n",
       "    </tr>\n",
       "  </thead>\n",
       "  <tbody>\n",
       "    <tr>\n",
       "      <th>0</th>\n",
       "      <td>14.23</td>\n",
       "      <td>1.71</td>\n",
       "      <td>2.43</td>\n",
       "      <td>15.6</td>\n",
       "      <td>127</td>\n",
       "      <td>2.80</td>\n",
       "      <td>3.06</td>\n",
       "      <td>0.28</td>\n",
       "      <td>2.29</td>\n",
       "      <td>5.64</td>\n",
       "      <td>1.04</td>\n",
       "      <td>3.92</td>\n",
       "      <td>1065</td>\n",
       "    </tr>\n",
       "    <tr>\n",
       "      <th>1</th>\n",
       "      <td>13.20</td>\n",
       "      <td>1.78</td>\n",
       "      <td>2.14</td>\n",
       "      <td>11.2</td>\n",
       "      <td>100</td>\n",
       "      <td>2.65</td>\n",
       "      <td>2.76</td>\n",
       "      <td>0.26</td>\n",
       "      <td>1.28</td>\n",
       "      <td>4.38</td>\n",
       "      <td>1.05</td>\n",
       "      <td>3.40</td>\n",
       "      <td>1050</td>\n",
       "    </tr>\n",
       "    <tr>\n",
       "      <th>2</th>\n",
       "      <td>13.16</td>\n",
       "      <td>2.36</td>\n",
       "      <td>2.67</td>\n",
       "      <td>18.6</td>\n",
       "      <td>101</td>\n",
       "      <td>2.80</td>\n",
       "      <td>3.24</td>\n",
       "      <td>0.30</td>\n",
       "      <td>2.81</td>\n",
       "      <td>5.68</td>\n",
       "      <td>1.03</td>\n",
       "      <td>3.17</td>\n",
       "      <td>1185</td>\n",
       "    </tr>\n",
       "    <tr>\n",
       "      <th>3</th>\n",
       "      <td>14.37</td>\n",
       "      <td>1.95</td>\n",
       "      <td>2.50</td>\n",
       "      <td>16.8</td>\n",
       "      <td>113</td>\n",
       "      <td>3.85</td>\n",
       "      <td>3.49</td>\n",
       "      <td>0.24</td>\n",
       "      <td>2.18</td>\n",
       "      <td>7.80</td>\n",
       "      <td>0.86</td>\n",
       "      <td>3.45</td>\n",
       "      <td>1480</td>\n",
       "    </tr>\n",
       "    <tr>\n",
       "      <th>4</th>\n",
       "      <td>13.24</td>\n",
       "      <td>2.59</td>\n",
       "      <td>2.87</td>\n",
       "      <td>21.0</td>\n",
       "      <td>118</td>\n",
       "      <td>2.80</td>\n",
       "      <td>2.69</td>\n",
       "      <td>0.39</td>\n",
       "      <td>1.82</td>\n",
       "      <td>4.32</td>\n",
       "      <td>1.04</td>\n",
       "      <td>2.93</td>\n",
       "      <td>735</td>\n",
       "    </tr>\n",
       "  </tbody>\n",
       "</table>\n",
       "</div>"
      ],
      "text/plain": [
       "   Alcohol  Malicacid   Ash  Alcalinity_of_ash  Magnesium  Total_phenols  \\\n",
       "0    14.23       1.71  2.43               15.6        127           2.80   \n",
       "1    13.20       1.78  2.14               11.2        100           2.65   \n",
       "2    13.16       2.36  2.67               18.6        101           2.80   \n",
       "3    14.37       1.95  2.50               16.8        113           3.85   \n",
       "4    13.24       2.59  2.87               21.0        118           2.80   \n",
       "\n",
       "   Flavanoids  Nonflavanoid_phenols  Proanthocyanins  Color_intensity   Hue  \\\n",
       "0        3.06                  0.28             2.29             5.64  1.04   \n",
       "1        2.76                  0.26             1.28             4.38  1.05   \n",
       "2        3.24                  0.30             2.81             5.68  1.03   \n",
       "3        3.49                  0.24             2.18             7.80  0.86   \n",
       "4        2.69                  0.39             1.82             4.32  1.04   \n",
       "\n",
       "   0D280_0D315_of_diluted_wines  Proline  \n",
       "0                          3.92     1065  \n",
       "1                          3.40     1050  \n",
       "2                          3.17     1185  \n",
       "3                          3.45     1480  \n",
       "4                          2.93      735  "
      ]
     },
     "execution_count": 16,
     "metadata": {},
     "output_type": "execute_result"
    }
   ],
   "source": [
    "# TO DO: ADD YOUR CODE HERE\n",
    "X.head(5)"
   ]
  },
  {
   "cell_type": "markdown",
   "id": "834fc8fe",
   "metadata": {
    "id": "834fc8fe"
   },
   "source": [
    "Check to see if there are any missing values in the dataset. If necessary, select an appropriate method to fill-in the missing values"
   ]
  },
  {
   "cell_type": "code",
   "execution_count": 17,
   "id": "97c6e9dc",
   "metadata": {
    "id": "97c6e9dc"
   },
   "outputs": [
    {
     "name": "stdout",
     "output_type": "stream",
     "text": [
      "0\n"
     ]
    }
   ],
   "source": [
    "# TO DO: ADD YOUR CODE HERE\n",
    "missing_values = X.isnull().sum().sum()\n",
    "print(missing_values)"
   ]
  },
  {
   "cell_type": "markdown",
   "id": "070956af",
   "metadata": {
    "id": "070956af"
   },
   "source": [
    "How many samples do we have of each type of wine?"
   ]
  },
  {
   "cell_type": "code",
   "execution_count": 24,
   "id": "b37a6fd9",
   "metadata": {
    "id": "b37a6fd9"
   },
   "outputs": [
    {
     "name": "stdout",
     "output_type": "stream",
     "text": [
      "class\n",
      "2    71\n",
      "1    59\n",
      "3    48\n",
      "Name: count, dtype: int64\n",
      "So wine 1 has 59 samples, wine 2 has 71 samples, and wine 3 has 48 samples\n"
     ]
    }
   ],
   "source": [
    "# TO DO: ADD YOUR CODE HERE\n",
    "#process description: since there are 3 classifiers(1 to 3) I need to find a way to get the number of occurences of each classifier\n",
    "#I searched up how to do this and saturncloud.io showed me the value_counts() method.\n",
    "\n",
    "counts = y[\"class\"].value_counts()\n",
    "print(counts)\n",
    "\n",
    "print(\"So wine 1 has 59 samples, wine 2 has 71 samples, and wine 3 has 48 samples\")"
   ]
  },
  {
   "cell_type": "markdown",
   "id": "70e6c46f",
   "metadata": {
    "id": "70e6c46f"
   },
   "source": [
    "## **Step 3:** Implement Machine Learning Model\n",
    "\n",
    "1. Import `SVC` and `DecisionTreeClassifier` from sklearn\n",
    "2. Instantiate models as `SVC()` and `DecisionTreeClassifier(max_depth = 3)`\n",
    "3. Implement the machine learning model with `X` and `y`"
   ]
  },
  {
   "cell_type": "code",
   "execution_count": 37,
   "id": "b2496c62-f08b-4c97-82ae-9d99041ec644",
   "metadata": {
    "tags": []
   },
   "outputs": [
    {
     "name": "stdout",
     "output_type": "stream",
     "text": [
      "SVC:\n",
      "Average Training Accuracy: 0.7037427361371023\n",
      "Average Validation Accuracy: 0.6634920634920635\n",
      "\n",
      "Decision Tree classifier:\n",
      "Average Training Accuracy: 0.9747562296858071\n",
      "Average Validation Accuracy: 0.8765079365079366\n",
      "\n",
      "  Model  Training accuracy  Validation accuracy\n",
      "0   SVC           0.703743             0.663492\n",
      "1   DTC           0.974756             0.876508\n"
     ]
    },
    {
     "name": "stderr",
     "output_type": "stream",
     "text": [
      "/Users/ej/anaconda3/lib/python3.11/site-packages/sklearn/utils/validation.py:1184: DataConversionWarning: A column-vector y was passed when a 1d array was expected. Please change the shape of y to (n_samples, ), for example using ravel().\n",
      "  y = column_or_1d(y, warn=True)\n",
      "/Users/ej/anaconda3/lib/python3.11/site-packages/sklearn/utils/validation.py:1184: DataConversionWarning: A column-vector y was passed when a 1d array was expected. Please change the shape of y to (n_samples, ), for example using ravel().\n",
      "  y = column_or_1d(y, warn=True)\n",
      "/Users/ej/anaconda3/lib/python3.11/site-packages/sklearn/utils/validation.py:1184: DataConversionWarning: A column-vector y was passed when a 1d array was expected. Please change the shape of y to (n_samples, ), for example using ravel().\n",
      "  y = column_or_1d(y, warn=True)\n",
      "/Users/ej/anaconda3/lib/python3.11/site-packages/sklearn/utils/validation.py:1184: DataConversionWarning: A column-vector y was passed when a 1d array was expected. Please change the shape of y to (n_samples, ), for example using ravel().\n",
      "  y = column_or_1d(y, warn=True)\n",
      "/Users/ej/anaconda3/lib/python3.11/site-packages/sklearn/utils/validation.py:1184: DataConversionWarning: A column-vector y was passed when a 1d array was expected. Please change the shape of y to (n_samples, ), for example using ravel().\n",
      "  y = column_or_1d(y, warn=True)\n",
      "/Users/ej/anaconda3/lib/python3.11/site-packages/sklearn/utils/validation.py:1184: DataConversionWarning: A column-vector y was passed when a 1d array was expected. Please change the shape of y to (n_samples, ), for example using ravel().\n",
      "  y = column_or_1d(y, warn=True)\n"
     ]
    }
   ],
   "source": [
    "from sklearn.tree import DecisionTreeClassifier\n",
    "from sklearn.svm import SVC\n",
    "\n",
    "svc = SVC()\n",
    "dtc = DecisionTreeClassifier(max_depth = 3)\n",
    "\n",
    "svc.fit(X, y)\n",
    "dtc.fit(X, y)\n",
    "\n",
    "svc_scores = cross_validate(svc, X, y, scoring='accuracy', cv=5, return_train_score=True)\n",
    "dtc_scores = cross_validate(dtc, X, y, scoring='accuracy', cv=5, return_train_score=True)\n",
    "\n",
    "\n",
    "avg_svc_train_acc = np.mean(svc_scores['train_score'])\n",
    "avg_svc_val_acc = np.mean(svc_scores['test_score'])\n",
    "\n",
    "avg_dtc_train_acc = np.mean(dtc_scores['train_score'])\n",
    "avg_dtc_val_acc = np.mean(dtc_scores['test_score'])\n",
    "\n",
    "\n",
    "print(\"SVC:\")\n",
    "print(f\"Average Training Accuracy: {avg_svc_train_acc}\")\n",
    "print(f\"Average Validation Accuracy: {avg_svc_val_acc}\\n\")\n",
    "\n",
    "print(\"Decision Tree classifier:\")\n",
    "print(f\"Average Training Accuracy: {avg_dtc_train_acc}\")\n",
    "print(f\"Average Validation Accuracy: {avg_dtc_val_acc}\\n\")\n",
    "\n",
    "results = pd.DataFrame(columns=['Model', 'Training accuracy', 'Validation accuracy'])\n",
    "results.loc[len(results)] = [\"SVC\", avg_svc_train_acc, avg_svc_val_acc]\n",
    "results.loc[len(results)] = [\"DTC\", avg_dtc_train_acc, avg_dtc_val_acc]\n",
    "print(results)"
   ]
  },
  {
   "cell_type": "markdown",
   "id": "0870b0d2",
   "metadata": {
    "id": "0870b0d2"
   },
   "source": [
    "## **Step 4:** Validate Model\n",
    "\n",
    "Calculate the average training and validation accuracy using `cross_validate` for the two different models listed in Step 3. For this case, use `scoring='accuracy'`"
   ]
  },
  {
   "cell_type": "markdown",
   "id": "bb0bbd83",
   "metadata": {
    "id": "bb0bbd83"
   },
   "source": [
    "## **Step 5:** Visualize Results (4 marks)\n",
    "\n",
    "<font color='red'>\n",
    "There is no individual mark for Steps 3 and 4 and those grades are included within the four points.\n",
    "\n",
    "</font>\n",
    "\n",
    "### **Step 5.1:** Compare Models (2 out of total 4 marks)\n",
    "1. Create a pandas DataFrame `results` with columns: Training accuracy and Validation accuracy\n",
    "2. Add the data size, training and validation accuracy for each dataset to the `results` DataFrame\n",
    "3. Print `results`"
   ]
  },
  {
   "cell_type": "code",
   "execution_count": null,
   "id": "be4b5c0a",
   "metadata": {
    "id": "be4b5c0a"
   },
   "outputs": [],
   "source": [
    "# TO DO: ADD YOUR CODE HERE FOR STEPS 3-5\n",
    "# Note: for any random state parameters, you can use random_state = 0\n",
    "# HINT: USING A LOOP TO STORE THE DATA IN YOUR RESULTS DATAFRAME WILL BE MORE EFFICIENT"
   ]
  },
  {
   "cell_type": "markdown",
   "id": "f2e17878",
   "metadata": {
    "id": "f2e17878"
   },
   "source": [
    "### **Step 5.2:** Visualize Classification Errors  (2 out of total 4 marks)\n",
    "Which method gave the highest accuracy? Use this method to print the confusion matrix and classification report:"
   ]
  },
  {
   "cell_type": "code",
   "execution_count": 34,
   "id": "44b091a4",
   "metadata": {
    "id": "44b091a4"
   },
   "outputs": [
    {
     "name": "stdout",
     "output_type": "stream",
     "text": [
      "              precision    recall  f1-score   support\n",
      "\n",
      "     class 1       1.00      0.97      0.98        59\n",
      "     class 2       0.96      0.99      0.97        71\n",
      "     class 3       0.98      0.98      0.98        48\n",
      "\n",
      "    accuracy                           0.98       178\n",
      "   macro avg       0.98      0.98      0.98       178\n",
      "weighted avg       0.98      0.98      0.98       178\n",
      "\n"
     ]
    },
    {
     "data": {
      "image/png": "[encoded data removed]",
      "text/plain": [
       "<Figure size 800x550 with 2 Axes>"
      ]
     },
     "metadata": {},
     "output_type": "display_data"
    }
   ],
   "source": [
    "# TO DO: Implement best model\n",
    "# I searched up how to make a confusion matrix and got some synatx from medium.com\n",
    "#I got classification report from sklearn\n",
    "import seaborn as sns\n",
    "from sklearn.metrics import confusion_matrix\n",
    "from sklearn.metrics import classification_report\n",
    "\n",
    "wine_predictions = dtc.predict(X)\n",
    "cf_matrix = confusion_matrix(y, wine_predictions)\n",
    "\n",
    "sns.heatmap(cf_matrix, annot=True)\n",
    "target_names = ['class 1', 'class 2', 'class 3']\n",
    "print(classification_report(y, wine_predictions, target_names=target_names))"
   ]
  },
  {
   "cell_type": "code",
   "execution_count": null,
   "id": "09d21b59",
   "metadata": {
    "id": "09d21b59"
   },
   "outputs": [],
   "source": [
    "# TO DO: Print confusion matrix using a heatmap"
   ]
  },
  {
   "cell_type": "code",
   "execution_count": null,
   "id": "5ef95947",
   "metadata": {
    "id": "5ef95947"
   },
   "outputs": [],
   "source": [
    "# TO DO: Print classification report"
   ]
  },
  {
   "cell_type": "markdown",
   "id": "bf319621",
   "metadata": {
    "id": "bf319621"
   },
   "source": [
    "## Questions (6 marks)\n",
    "1. How do the training and validation accuracy change depending on the method used? Explain with values.\n",
    "1. What are two reasons why the support vector machines model did not work as well as the tree-based model?\n",
    "1. How many samples were incorrectly classified in step 5.2?\n",
    "1. In this case, is maximizing precision or recall more important? Why?"
   ]
  },
  {
   "cell_type": "markdown",
   "id": "1FQstcwnXXng",
   "metadata": {
    "id": "1FQstcwnXXng"
   },
   "source": [
    "\n",
    "<font color='Green'><b>YOUR ANSWERS HERE</b></font>\n",
    "1. Both the training and validation accuracy improve drastically when the Decision Tree Classifier is used compared to the SVC. The average training accuracy for the Decision tree classifier is 97.6% compared to that of SVC which is 70.6%. The average validation accuracy for the Decision tree classifier is 86.5% compared to that of SVC which is 66.3%.\n",
    "\n",
    "2. One reason might be that using an SVC might be too complex for this dataset, since we have 13 feature vectors being used for classification. Another reason might be that since an SVC assumes a linear decision boundary by default, it might not be able to find an optimal decision boundary in this case, since the relationship between the features and target variables is not linear for this dataset.\n",
    "\n",
    "3. 2 samples actually belong to class 1 but were predicted as class 2. 1 sample actually belonged to class 2 but was predicted as class 3. 1 sample actually belonged to class 3 but was predicted as class 2. Thus, a total of 4 samples were incorrectly predicted.\n",
    "\n",
    "4. Precision reflects the ability of the model to avoid false positives. So in this case one would probably want to maximize precision so that a person does not drink the wrong wine which might have ingredients that they are allergic to for example.\n",
    "\n",
    "\n",
    "\n"
   ]
  },
  {
   "cell_type": "markdown",
   "id": "664ff8ae",
   "metadata": {
    "id": "664ff8ae"
   },
   "source": [
    "## Process Description (4 marks)\n",
    "Please describe the process you used to create your code. Cite any websites or generative AI tools used. You can use the following questions as guidance:\n",
    "1. Where did you source your code?\n",
    "1. In what order did you complete the steps?\n",
    "1. If you used generative AI, what prompts did you use? Did you need to modify the code at all? Why or why not?\n",
    "1. Did you have any challenges? If yes, what were they? If not, what helped you to be successful?"
   ]
  },
  {
   "cell_type": "markdown",
   "id": "d0e837da",
   "metadata": {
    "id": "d0e837da"
   },
   "source": [
    "<font color='Green'><b>DESCRIBE YOUR PROCESS HERE</b>\n",
    "\n",
    "1. The data import was sourced from the UCI Machine Learning repo. The other import statements were sourced from scikit-learn.org. The confusion matrix and heatmap functions were sourced from medium.com. The classification_report function was sourced from scikit-learn.org.\n",
    "    \n",
    "2. The steps were completed in the order they were given.\n",
    "    \n",
    "3. Prompt1: How to read a 3x3 confusion matrix properly.\n",
    "    \n",
    "I was only used to the 2x2 confusion matrices in the lecture notes so I passed prompt1 to chatgpt to gain a better understanding on how to read the 3x3 matrix.\n",
    "    \n",
    "4. I had no challenges for this part. I was just able to get a clearer understanding of how to read the confusion matrix with the help of chatgpt.\n",
    "\n",
    "\n",
    "</font>"
   ]
  },
  {
   "cell_type": "markdown",
   "id": "4cd7358d",
   "metadata": {
    "id": "4cd7358d"
   },
   "source": [
    "# **Part 3: Observations/Interpretation (3 marks)**\n",
    "\n",
    "Describe any pattern you see in the results. Relate your findings to what we discussed during lectures. Include data to justify your findings."
   ]
  },
  {
   "cell_type": "markdown",
   "id": "F3ifv218XL62",
   "metadata": {
    "id": "F3ifv218XL62"
   },
   "source": [
    "<font color='Green'><b>\n",
    "ADD YOUR FINDINGS HERE\n",
    "    \n",
    "We found that the Decision Tree Classifier would be the best model for properly classifying the samples in this dataset. This is because it produced the highest training and validation accuracy. Also the confusion matrix showed that only 4 out of 178 samples were incorrectly classified(Hence the 97% training accuracy for the DTC training set). While the three models in the first part had a high training accuracy, they had a poor validation accuracy. This might be due to the fact that overfitting occured, thus the model learned the training data too well and might have captured noise or random fluctuations in the data instead of the existing patterns.\n",
    "</b></font>"
   ]
  },
  {
   "cell_type": "markdown",
   "id": "cd97b6ac",
   "metadata": {
    "id": "cd97b6ac"
   },
   "source": [
    "## **Part 4:** Reflection (2 marks)\n",
    "Include a sentence or two about:\n",
    "- what you liked or disliked,\n",
    "- found interesting, confusing, challangeing, motivating\n",
    "while working on this assignment.\n",
    "\n"
   ]
  },
  {
   "cell_type": "markdown",
   "id": "tDFYc89YXQGJ",
   "metadata": {
    "id": "tDFYc89YXQGJ"
   },
   "source": [
    "<font color='Green'><b>\n",
    "ADD YOUR THOUGHTS HERE\n",
    "    \n",
    "I found it interesting how the accuracy value of the DTC matched with the value we got when we used the cross_validate function. I also found it interesting how the regression models above might have learned the train data too well, causing overfitting with the test data.\n",
    "</b></font>"
   ]
  },
  {
   "cell_type": "markdown",
   "id": "fa21e53b",
   "metadata": {
    "id": "fa21e53b"
   },
   "source": [
    "## **Part 5:** Bonus Question (3 marks)\n",
    "\n",
    "Repeat Part 2 and compare the support vector machines model used to `LinearSVC(max_iter=5000)`. Does using `LinearSVC` improve the results? Why or why not?\n",
    "\n",
    "Is `LinearSVC` a good fit for this dataset? Why or why not?"
   ]
  },
  {
   "cell_type": "code",
   "execution_count": null,
   "id": "30fea72e",
   "metadata": {
    "id": "30fea72e"
   },
   "outputs": [],
   "source": [
    "# TO DO: ADD YOUR CODE HERE\n"
   ]
  },
  {
   "cell_type": "markdown",
   "id": "aabc68a4",
   "metadata": {
    "id": "aabc68a4"
   },
   "source": [
    "*ANSWER HERE*"
   ]
  },
  {
   "cell_type": "code",
   "execution_count": 38,
   "id": "241c3b12",
   "metadata": {
    "id": "241c3b12"
   },
   "outputs": [
    {
     "name": "stderr",
     "output_type": "stream",
     "text": [
      "/Users/ej/anaconda3/lib/python3.11/site-packages/sklearn/utils/validation.py:1184: DataConversionWarning: A column-vector y was passed when a 1d array was expected. Please change the shape of y to (n_samples, ), for example using ravel().\n",
      "  y = column_or_1d(y, warn=True)\n",
      "/Users/ej/anaconda3/lib/python3.11/site-packages/sklearn/svm/_classes.py:32: FutureWarning: The default value of `dual` will change from `True` to `'auto'` in 1.5. Set the value of `dual` explicitly to suppress the warning.\n",
      "  warnings.warn(\n",
      "/Users/ej/anaconda3/lib/python3.11/site-packages/sklearn/svm/_base.py:1242: ConvergenceWarning: Liblinear failed to converge, increase the number of iterations.\n",
      "  warnings.warn(\n",
      "/Users/ej/anaconda3/lib/python3.11/site-packages/sklearn/utils/validation.py:1184: DataConversionWarning: A column-vector y was passed when a 1d array was expected. Please change the shape of y to (n_samples, ), for example using ravel().\n",
      "  y = column_or_1d(y, warn=True)\n",
      "/Users/ej/anaconda3/lib/python3.11/site-packages/sklearn/svm/_classes.py:32: FutureWarning: The default value of `dual` will change from `True` to `'auto'` in 1.5. Set the value of `dual` explicitly to suppress the warning.\n",
      "  warnings.warn(\n",
      "/Users/ej/anaconda3/lib/python3.11/site-packages/sklearn/svm/_base.py:1242: ConvergenceWarning: Liblinear failed to converge, increase the number of iterations.\n",
      "  warnings.warn(\n",
      "/Users/ej/anaconda3/lib/python3.11/site-packages/sklearn/utils/validation.py:1184: DataConversionWarning: A column-vector y was passed when a 1d array was expected. Please change the shape of y to (n_samples, ), for example using ravel().\n",
      "  y = column_or_1d(y, warn=True)\n",
      "/Users/ej/anaconda3/lib/python3.11/site-packages/sklearn/svm/_classes.py:32: FutureWarning: The default value of `dual` will change from `True` to `'auto'` in 1.5. Set the value of `dual` explicitly to suppress the warning.\n",
      "  warnings.warn(\n",
      "/Users/ej/anaconda3/lib/python3.11/site-packages/sklearn/svm/_base.py:1242: ConvergenceWarning: Liblinear failed to converge, increase the number of iterations.\n",
      "  warnings.warn(\n",
      "/Users/ej/anaconda3/lib/python3.11/site-packages/sklearn/utils/validation.py:1184: DataConversionWarning: A column-vector y was passed when a 1d array was expected. Please change the shape of y to (n_samples, ), for example using ravel().\n",
      "  y = column_or_1d(y, warn=True)\n",
      "/Users/ej/anaconda3/lib/python3.11/site-packages/sklearn/svm/_classes.py:32: FutureWarning: The default value of `dual` will change from `True` to `'auto'` in 1.5. Set the value of `dual` explicitly to suppress the warning.\n",
      "  warnings.warn(\n"
     ]
    },
    {
     "name": "stdout",
     "output_type": "stream",
     "text": [
      "LinearSVC:\n",
      "Average Training Accuracy: 0.9017531764010638\n",
      "Average Validation Accuracy: 0.8758730158730158\n",
      "\n",
      "Decision Tree classifier:\n",
      "Average Training Accuracy: 0.9747562296858071\n",
      "Average Validation Accuracy: 0.8876190476190476\n",
      "\n",
      "        Model  Training accuracy  Validation accuracy\n",
      "0  Linear SVC           0.901753             0.875873\n",
      "1         DTC           0.974756             0.887619\n"
     ]
    },
    {
     "name": "stderr",
     "output_type": "stream",
     "text": [
      "/Users/ej/anaconda3/lib/python3.11/site-packages/sklearn/svm/_base.py:1242: ConvergenceWarning: Liblinear failed to converge, increase the number of iterations.\n",
      "  warnings.warn(\n",
      "/Users/ej/anaconda3/lib/python3.11/site-packages/sklearn/utils/validation.py:1184: DataConversionWarning: A column-vector y was passed when a 1d array was expected. Please change the shape of y to (n_samples, ), for example using ravel().\n",
      "  y = column_or_1d(y, warn=True)\n",
      "/Users/ej/anaconda3/lib/python3.11/site-packages/sklearn/svm/_classes.py:32: FutureWarning: The default value of `dual` will change from `True` to `'auto'` in 1.5. Set the value of `dual` explicitly to suppress the warning.\n",
      "  warnings.warn(\n",
      "/Users/ej/anaconda3/lib/python3.11/site-packages/sklearn/svm/_base.py:1242: ConvergenceWarning: Liblinear failed to converge, increase the number of iterations.\n",
      "  warnings.warn(\n",
      "/Users/ej/anaconda3/lib/python3.11/site-packages/sklearn/utils/validation.py:1184: DataConversionWarning: A column-vector y was passed when a 1d array was expected. Please change the shape of y to (n_samples, ), for example using ravel().\n",
      "  y = column_or_1d(y, warn=True)\n",
      "/Users/ej/anaconda3/lib/python3.11/site-packages/sklearn/svm/_classes.py:32: FutureWarning: The default value of `dual` will change from `True` to `'auto'` in 1.5. Set the value of `dual` explicitly to suppress the warning.\n",
      "  warnings.warn(\n",
      "/Users/ej/anaconda3/lib/python3.11/site-packages/sklearn/svm/_base.py:1242: ConvergenceWarning: Liblinear failed to converge, increase the number of iterations.\n",
      "  warnings.warn(\n"
     ]
    }
   ],
   "source": [
    "from sklearn.tree import DecisionTreeClassifier\n",
    "from sklearn.svm import LinearSVC\n",
    "\n",
    "lin_svc = LinearSVC(max_iter=5000)\n",
    "dtc = DecisionTreeClassifier(max_depth = 3)\n",
    "\n",
    "lin_svc.fit(X, y)\n",
    "dtc.fit(X, y)\n",
    "\n",
    "lin_svc_scores = cross_validate(lin_svc, X, y, scoring='accuracy', cv=5, return_train_score=True)\n",
    "dtc_scores = cross_validate(dtc, X, y, scoring='accuracy', cv=5, return_train_score=True)\n",
    "\n",
    "\n",
    "avg_lin_svc_train_acc = np.mean(lin_svc_scores['train_score'])\n",
    "avg_lin_svc_val_acc = np.mean(lin_svc_scores['test_score'])\n",
    "\n",
    "avg_dtc_train_acc = np.mean(dtc_scores['train_score'])\n",
    "avg_dtc_val_acc = np.mean(dtc_scores['test_score'])\n",
    "\n",
    "\n",
    "print(\"LinearSVC:\")\n",
    "print(f\"Average Training Accuracy: {avg_lin_svc_train_acc}\")\n",
    "print(f\"Average Validation Accuracy: {avg_lin_svc_val_acc}\\n\")\n",
    "\n",
    "print(\"Decision Tree classifier:\")\n",
    "print(f\"Average Training Accuracy: {avg_dtc_train_acc}\")\n",
    "print(f\"Average Validation Accuracy: {avg_dtc_val_acc}\\n\")\n",
    "\n",
    "results = pd.DataFrame(columns=['Model', 'Training accuracy', 'Validation accuracy'])\n",
    "results.loc[len(results)] = [\"Linear SVC\", avg_lin_svc_train_acc, avg_lin_svc_val_acc]\n",
    "results.loc[len(results)] = [\"DTC\", avg_dtc_train_acc, avg_dtc_val_acc]\n",
    "print(results)"
   ]
  },
  {
   "cell_type": "code",
   "execution_count": null,
   "id": "c8d6c7d3-f808-40d6-b007-521c498801a3",
   "metadata": {},
   "outputs": [],
   "source": [
    "print(\"Using LinearSVC is often more scalable than SVC with a linear kernel, particularly for high-dimensional datasets. It can handle large numbers of features more efficiently because it does not need to compute the kernel matrix.\")"
   ]
  }
 ],
 "metadata": {
  "colab": {
   "provenance": []
  },
  "kernelspec": {
   "display_name": "Python 3 (ipykernel)",
   "language": "python",
   "name": "python3"
  },
  "language_info": {
   "codemirror_mode": {
    "name": "ipython",
    "version": 3
   },
   "file_extension": ".py",
   "mimetype": "text/x-python",
   "name": "python",
   "nbconvert_exporter": "python",
   "pygments_lexer": "ipython3",
   "version": "3.11.5"
  }
 },
 "nbformat": 4,
 "nbformat_minor": 5
}
